{
 "cells": [
  {
   "cell_type": "code",
   "execution_count": 2,
   "id": "862457a1-6e21-453b-8835-d8ab12ad72d8",
   "metadata": {},
   "outputs": [],
   "source": [
    "d=[[1,2,3],[4,5,6],[7,8,9]]"
   ]
  },
  {
   "cell_type": "code",
   "execution_count": 3,
   "id": "8df1540c-2cac-4e1e-9611-387942314696",
   "metadata": {},
   "outputs": [],
   "source": [
    "import numpy as np"
   ]
  },
  {
   "cell_type": "code",
   "execution_count": 4,
   "id": "f9040b07-4d7f-4ccb-a3ac-aedee80022de",
   "metadata": {},
   "outputs": [
    {
     "data": {
      "text/plain": [
       "array([4., 5., 6.])"
      ]
     },
     "execution_count": 4,
     "metadata": {},
     "output_type": "execute_result"
    }
   ],
   "source": [
    "ave = np.mean(d,axis=0)\n",
    "ave"
   ]
  },
  {
   "cell_type": "code",
   "execution_count": 6,
   "id": "70c23cda-2b16-444a-b61c-eae4abe3b424",
   "metadata": {},
   "outputs": [
    {
     "data": {
      "text/plain": [
       "6.0"
      ]
     },
     "execution_count": 6,
     "metadata": {},
     "output_type": "execute_result"
    }
   ],
   "source": [
    "np.mean([3,6,9])"
   ]
  },
  {
   "cell_type": "code",
   "execution_count": null,
   "id": "5c26ad1a-8adb-46be-8a7e-558c5feca020",
   "metadata": {},
   "outputs": [],
   "source": []
  }
 ],
 "metadata": {
  "kernelspec": {
   "display_name": "NERSC Python",
   "language": "python",
   "name": "python3"
  },
  "language_info": {
   "codemirror_mode": {
    "name": "ipython",
    "version": 3
   },
   "file_extension": ".py",
   "mimetype": "text/x-python",
   "name": "python",
   "nbconvert_exporter": "python",
   "pygments_lexer": "ipython3",
   "version": "3.9.7"
  }
 },
 "nbformat": 4,
 "nbformat_minor": 5
}
